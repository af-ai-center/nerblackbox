{
 "cells": [
  {
   "cell_type": "code",
   "execution_count": null,
   "metadata": {},
   "outputs": [],
   "source": [
    "import warnings; warnings.filterwarnings('ignore')\n",
    "\n",
    "%load_ext autoreload\n",
    "%autoreload 2\n",
    "import logging\n",
    "import torch\n",
    "from transformers import *\n",
    "from pytorch_pretrained_bert import BertAdam\n",
    "from utils.datasets import *\n",
    "from utils.processors import *\n",
    "from utils.train import *\n",
    "from utils.datasets import BertDataset as BDS\n",
    "#from utils import BertDataset, NERProcessor, InputExampleToTensors, NERTrainer,InputExample,SwedishNERCorpusProcessor,SUCProcessor\n",
    "from torch.utils.data import TensorDataset, DataLoader, RandomSampler, SequentialSampler\n",
    "import pandas as pd\n",
    "import nltk\n",
    "import matplotlib.pyplot as plt\n",
    "logger = logging.getLogger()\n",
    "logger.setLevel(logging.WARNING)"
   ]
  },
  {
   "cell_type": "code",
   "execution_count": null,
   "metadata": {},
   "outputs": [],
   "source": [
    "model_name = './swe-uncased_L-12_H-768_A-12'\n",
    "#model_name = './swe-uncased_L-24_H-1024_A-16'\n",
    "#model_name = 'bert-base-uncased'\n",
    "#model_name = 'bert-base-multilingual-uncased'\n",
    "tokenizer = BertTokenizer.from_pretrained(model_name, do_lower_case=True)\n",
    "tokenized_text = tokenizer.tokenize('du har god datorvana')\n",
    "indexed_tokens = tokenizer.convert_tokens_to_ids(tokenized_text)\n",
    "tokenized_text"
   ]
  },
  {
   "cell_type": "code",
   "execution_count": null,
   "metadata": {},
   "outputs": [],
   "source": [
    "processor = SwedishNERCorpusProcessor('swedish_ner_corpus/', tokenizer, do_lower_case=True)\n",
    "label_list = processor.get_label_list()\n",
    "label_list"
   ]
  },
  {
   "cell_type": "code",
   "execution_count": null,
   "metadata": {},
   "outputs": [],
   "source": [
    "train_examples = processor.get_train_examples()\n",
    "batch_size = 16\n",
    "samples_transformer = InputExampleToTensors(tokenizer, max_seq_length=64, label_list=label_list)\n",
    "\n",
    "train_data = BDS(train_examples, transform=samples_transformer)\n",
    "train_dataloader = DataLoader(train_data, sampler=RandomSampler(train_data), batch_size=batch_size)\n",
    "train_examples = processor.get_train_examples()\n",
    "\n",
    "print(train_examples[5].text_a)\n",
    "print(train_examples[5].label)"
   ]
  },
  {
   "cell_type": "code",
   "execution_count": null,
   "metadata": {},
   "outputs": [],
   "source": [
    "val_examples = processor.get_test_examples()\n",
    "\n",
    "print(val_examples[1].text_a)\n",
    "print(val_examples[1].label)\n",
    "validation_data = BDS(val_examples, transform=samples_transformer)\n",
    "valid_dataloader = DataLoader(validation_data, sampler=SequentialSampler(validation_data), batch_size=batch_size)\n",
    "device = torch.device(\"cuda\" if torch.cuda.is_available() else \"cpu\")"
   ]
  },
  {
   "cell_type": "code",
   "execution_count": null,
   "metadata": {},
   "outputs": [],
   "source": [
    "model = BertForTokenClassification.from_pretrained(model_name, num_labels=len(label_list))\n",
    "trainer = NERTrainer(model, train_dataloader, valid_dataloader, label_list, fp16=True)\n"
   ]
  },
  {
   "cell_type": "code",
   "execution_count": null,
   "metadata": {},
   "outputs": [],
   "source": [
    "trainer.fit(learning_rate=4e-5, num_epochs=4)"
   ]
  },
  {
   "cell_type": "code",
   "execution_count": null,
   "metadata": {},
   "outputs": [],
   "source": [
    "trainer.labelDict"
   ]
  },
  {
   "cell_type": "code",
   "execution_count": null,
   "metadata": {},
   "outputs": [],
   "source": [
    "SWE-small\n",
    "Validation F1-Score: 0.7453771764060024\n",
    "Validation F1-Score: 0.7718145114891569\n",
    "Validation F1-Score: 0.8114347504309413\n",
    "Validation F1-Score: 0.8092869569637201\n",
    "Validation F1-Score: 0.8112638186063555\n",
    "Validation F1-Score: 0.8228508441478581\n",
    "Validation F1-Score: 0.8165292523184183\n",
    "Validation F1-Score: 0.8210080203533537\n",
    "    \n",
    "    {'PER': {'total': 4744, 'correct': 4126}, \n",
    "     'LOC': {'total': 2640, 'correct': 1798}, \n",
    "     'ORG': {'total': 2872, 'correct': 1633}, \n",
    "     'O': {'total': 75840, 'correct': 74385}, \n",
    "     'WRK': {'total': 0, 'correct': 0}, \n",
    "     'OBJ': {'total': 0, 'correct': 0}, '[CLS]': {'total': 3944, 'correct': 3940}, '<pad>': {'total': 143192, 'correct': 142852}, '[SEP]': {'total': 0, 'correct': 0}}\n",
    "    \n",
    "ENG\n",
    "Validation F1-Score: 0.705778378828069\n",
    "Validation F1-Score: 0.7436050165228701\n",
    "Validation F1-Score: 0.7919177929401794\n",
    "Validation F1-Score: 0.7982807628242774\n",
    "Validation F1-Score: 0.7985788435576543\n",
    "Validation F1-Score: 0.802232594709225\n",
    "Validation F1-Score: 0.7990659974182296\n",
    "Validation F1-Score: 0.8016377411942818\n",
    "\n",
    "Multilingual\n",
    "Validation F1-Score: 0.7534082144867289\n",
    "Validation F1-Score: 0.8237981927823645\n",
    "Validation F1-Score: 0.8340843966290341\n",
    "Validation F1-Score: 0.8432541251884033\n",
    "Validation F1-Score: 0.8394732994416342\n",
    "Validation F1-Score: 0.8519310852649912\n",
    "Validation F1-Score: 0.8579671364226126\n",
    "Validation F1-Score: 0.8503048885967653\n",
    "    \n",
    "{'PER': {'total': 4712, 'correct': 4318}, \n",
    " 'LOC': {'total': 2688, 'correct': 2072}, \n",
    " 'ORG': {'total': 3576, 'correct': 2288}, \n",
    " 'O': {'total': 83576, 'correct': 82233}, \n",
    " 'WRK': {'total': 0, 'correct': 0}, \n",
    " 'OBJ': {'total': 0, 'correct': 0}, \n",
    " '[CLS]': {'total': 3240, 'correct': 3240}, '<pad>': {'total': 135848, 'correct': 135645}, '[SEP]': {'total': 0, 'correct': 0}}"
   ]
  },
  {
   "cell_type": "code",
   "execution_count": null,
   "metadata": {},
   "outputs": [],
   "source": [
    "import numpy as np\n",
    "sent_tokenizer = tokenizer\n",
    "sentence_lower = 'En som arbetar mycket hårt är erik som är politisk aktiv inom socialdemokraterna i sverige .'\n",
    "sentence_lower = sentence_lower.lower()\n",
    "print(sentence_lower)\n",
    "example = InputExample(\"\", sentence_lower, label='O')\n",
    "to_tensors = InputExampleToTensors(tokenizer, max_seq_length=128, label_list=label_list)\n",
    "input_ids, input_mask, segment_ids, label_id = to_tensors(example)\n",
    "#input_ids, input_mask, segment_ids, label_id = train_data[2]\n",
    "model.to('cuda')\n",
    "tokens_tensor = input_ids.view(1,-1).to('cuda')\n",
    "segments_tensors = segment_ids.view(1,-1).to('cuda')\n",
    "model.eval()\n",
    "logits = model(tokens_tensor, segments_tensors)\n",
    "res = []\n",
    "res.extend(logits[0].argmax(-1))\n",
    "np_logits = logits[0].detach().cpu().numpy()\n",
    "np.argmax(np_logits, axis=2)\n",
    "lst = np.argmax(np_logits, axis=2)[0].tolist()\n",
    "lst = lst[1:]\n",
    "\n",
    "#print(segment_ids)\n",
    "splitinput = tokenizer.tokenize(sentence_lower)\n",
    "#print(lst)\n",
    "#print(list(zip(lst,splitinput)))\n",
    "#print(logits)\n",
    "for num, word in zip(lst, splitinput):\n",
    "    if num == 4:\n",
    "        print(\"PERSON: \" + word)\n",
    "    elif num == 5:\n",
    "        print(\"ORG: \" + word)\n",
    "    elif num == 6:\n",
    "        print(\"LOCATION: \" + word)\n",
    "    elif num == 7:\n",
    "        print(\"WORK: \" + word)\n",
    "    elif num == 8:\n",
    "        print(\"PRODUCT: \" + word)\n",
    "    else:\n",
    "        print(num, word)"
   ]
  },
  {
   "cell_type": "code",
   "execution_count": null,
   "metadata": {},
   "outputs": [],
   "source": []
  }
 ],
 "metadata": {
  "kernelspec": {
   "display_name": "Python 3",
   "language": "python",
   "name": "python3"
  },
  "language_info": {
   "codemirror_mode": {
    "name": "ipython",
    "version": 3
   },
   "file_extension": ".py",
   "mimetype": "text/x-python",
   "name": "python",
   "nbconvert_exporter": "python",
   "pygments_lexer": "ipython3",
   "version": "3.6.9"
  }
 },
 "nbformat": 4,
 "nbformat_minor": 4
}

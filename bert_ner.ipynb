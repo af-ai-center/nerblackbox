{
 "cells": [
  {
   "cell_type": "code",
   "execution_count": null,
   "metadata": {},
   "outputs": [],
   "source": [
    "import warnings; warnings.filterwarnings('ignore')\n",
    "\n",
    "%load_ext autoreload\n",
    "%autoreload 2\n",
    "import logging\n",
    "import torch\n",
    "from transformers import *\n",
    "from pytorch_pretrained_bert import BertAdam\n",
    "from utils.datasets import *\n",
    "from utils.processors import *\n",
    "from utils.processors_additional import *\n",
    "from utils.train import *\n",
    "from utils.datasets import BertDataset as BDS\n",
    "#from utils import BertDataset, NERProcessor, InputExampleToTensors, NERTrainer,InputExample,SwedishNERCorpusProcessor,SUCProcessor\n",
    "from torch.utils.data import TensorDataset, DataLoader, RandomSampler, SequentialSampler\n",
    "import pandas as pd\n",
    "import nltk\n",
    "import matplotlib.pyplot as plt"
   ]
  },
  {
   "cell_type": "code",
   "execution_count": null,
   "metadata": {},
   "outputs": [],
   "source": [
    "logger = logging.getLogger()\n",
    "logger.setLevel(logging.WARNING)"
   ]
  },
  {
   "cell_type": "markdown",
   "metadata": {},
   "source": [
    "### 0. Settings"
   ]
  },
  {
   "cell_type": "code",
   "execution_count": null,
   "metadata": {},
   "outputs": [],
   "source": [
    "#model_name = 'bert-base-uncased'\n",
    "model_name = 'bert-base-multilingual-uncased'\n",
    "#model_name = './swe-uncased_L-12_H-768_A-12'"
   ]
  },
  {
   "cell_type": "code",
   "execution_count": null,
   "metadata": {},
   "outputs": [],
   "source": [
    "dataset_path = 'SUC/moreTags/'"
   ]
  },
  {
   "cell_type": "markdown",
   "metadata": {},
   "source": [
    "### 1. Example"
   ]
  },
  {
   "cell_type": "code",
   "execution_count": null,
   "metadata": {},
   "outputs": [],
   "source": [
    "example_sentence = \\\n",
    "    'iran har hittills inte reagerat på någondera av de stora påkarna som saudier och irakier hött med :' + \\\n",
    "    ' landsbergis ansåg att gorbatjovs lördagsappell visade att denne ignorerar vädjanden från väst om att' + \\\n",
    "    ' börja tala med regeringen i vilnius .'"
   ]
  },
  {
   "cell_type": "code",
   "execution_count": null,
   "metadata": {},
   "outputs": [],
   "source": [
    "tokenizer = BertTokenizer.from_pretrained(model_name, do_lower_case=True)\n",
    "tokenized_text = tokenizer.tokenize(example_sentence)"
   ]
  },
  {
   "cell_type": "code",
   "execution_count": null,
   "metadata": {},
   "outputs": [],
   "source": [
    "indexed_tokens = tokenizer.convert_tokens_to_ids(tokenized_text)\n",
    "len(indexed_tokens), indexed_tokens[:3]"
   ]
  },
  {
   "cell_type": "markdown",
   "metadata": {},
   "source": [
    "### 2. SUC Processor"
   ]
  },
  {
   "cell_type": "code",
   "execution_count": null,
   "metadata": {},
   "outputs": [],
   "source": [
    "processor = SUCProcessor(dataset_path, tokenizer, do_lower_case=True)"
   ]
  },
  {
   "cell_type": "code",
   "execution_count": null,
   "metadata": {},
   "outputs": [],
   "source": [
    "label_list = processor.get_label_list()\n",
    "label_list"
   ]
  },
  {
   "cell_type": "markdown",
   "metadata": {},
   "source": [
    "#### Prune Examples (Temp)"
   ]
  },
  {
   "cell_type": "code",
   "execution_count": null,
   "metadata": {},
   "outputs": [],
   "source": [
    "def prune_examples(_examples, ratio=None):\n",
    "    if ratio is None:\n",
    "        return _examples\n",
    "    else:\n",
    "        num_examples_new = int(ratio*float(len(_examples)))\n",
    "        print(f'use {num_examples_new} of {len(_examples)} examples')\n",
    "        return _examples[:num_examples_new]\n",
    "\n",
    "prune_examples([0, 1, 2, 3, 4, 5], ratio=0.5)"
   ]
  },
  {
   "cell_type": "code",
   "execution_count": null,
   "metadata": {},
   "outputs": [],
   "source": [
    "prune_ratio = 0.02"
   ]
  },
  {
   "cell_type": "markdown",
   "metadata": {},
   "source": [
    "#### Train Data"
   ]
  },
  {
   "cell_type": "raw",
   "metadata": {},
   "source": [
    "for i, row in enumerate(processor.train_data.itertuples()):\n",
    "    if i <= 8:\n",
    "        print(row)\n",
    "    else:\n",
    "        break"
   ]
  },
  {
   "cell_type": "code",
   "execution_count": null,
   "metadata": {},
   "outputs": [],
   "source": [
    "train_examples_all = processor.get_train_examples()"
   ]
  },
  {
   "cell_type": "code",
   "execution_count": null,
   "metadata": {},
   "outputs": [],
   "source": [
    "train_examples = prune_examples(train_examples_all, ratio=prune_ratio)"
   ]
  },
  {
   "cell_type": "code",
   "execution_count": null,
   "metadata": {},
   "outputs": [],
   "source": [
    "print(train_examples[8].guid)\n",
    "print(train_examples[8].text_a)\n",
    "print(train_examples[8].text_b)\n",
    "print(train_examples[8].label)"
   ]
  },
  {
   "cell_type": "markdown",
   "metadata": {},
   "source": [
    "#### Validation Data"
   ]
  },
  {
   "cell_type": "code",
   "execution_count": null,
   "metadata": {},
   "outputs": [],
   "source": [
    "val_examples_all = processor.get_test_examples()"
   ]
  },
  {
   "cell_type": "code",
   "execution_count": null,
   "metadata": {},
   "outputs": [],
   "source": [
    "val_examples = prune_examples(val_examples_all, ratio=prune_ratio)"
   ]
  },
  {
   "cell_type": "code",
   "execution_count": null,
   "metadata": {},
   "outputs": [],
   "source": [
    "print(len(val_examples))\n",
    "print(val_examples[1].text_a)\n",
    "print(val_examples[1].label)"
   ]
  },
  {
   "cell_type": "markdown",
   "metadata": {},
   "source": [
    "#### Dataloader"
   ]
  },
  {
   "cell_type": "code",
   "execution_count": null,
   "metadata": {},
   "outputs": [],
   "source": [
    "batch_size = 16"
   ]
  },
  {
   "cell_type": "code",
   "execution_count": null,
   "metadata": {},
   "outputs": [],
   "source": [
    "#B-LOC O B-TME O O O O O O O O O O O O O O O B-PRS O O B-PRS O O O O O O O O O O O O O O O B-LOC O\n",
    "samples_transformer = InputExampleToTensors(tokenizer, max_seq_length=64, label_list=label_list)"
   ]
  },
  {
   "cell_type": "code",
   "execution_count": null,
   "metadata": {},
   "outputs": [],
   "source": [
    "train_data = BDS(train_examples, transform=samples_transformer)\n",
    "train_dataloader = DataLoader(train_data, sampler=RandomSampler(train_data), batch_size=batch_size)"
   ]
  },
  {
   "cell_type": "code",
   "execution_count": null,
   "metadata": {},
   "outputs": [],
   "source": [
    "validation_data = BDS(val_examples, transform=samples_transformer)\n",
    "valid_dataloader = DataLoader(validation_data, sampler=SequentialSampler(validation_data), batch_size=batch_size)"
   ]
  },
  {
   "cell_type": "markdown",
   "metadata": {},
   "source": [
    "### 3. Train"
   ]
  },
  {
   "cell_type": "code",
   "execution_count": null,
   "metadata": {},
   "outputs": [],
   "source": [
    "device = torch.device(\"cuda\" if torch.cuda.is_available() else \"cpu\")\n",
    "device"
   ]
  },
  {
   "cell_type": "code",
   "execution_count": null,
   "metadata": {},
   "outputs": [],
   "source": [
    "model = BertForTokenClassification.from_pretrained(model_name, num_labels=len(label_list))\n",
    "model"
   ]
  },
  {
   "cell_type": "code",
   "execution_count": null,
   "metadata": {},
   "outputs": [],
   "source": [
    "trainer = NERTrainer(model, train_dataloader, valid_dataloader, label_list, fp16=True if device == \"cuda\" else False)\n",
    "trainer"
   ]
  },
  {
   "cell_type": "code",
   "execution_count": null,
   "metadata": {},
   "outputs": [],
   "source": [
    "trainer.fit(learning_rate=2e-5, num_epochs=1)  # 4"
   ]
  },
  {
   "cell_type": "markdown",
   "metadata": {},
   "source": [
    "#### Different training rates"
   ]
  },
  {
   "cell_type": "raw",
   "metadata": {},
   "source": [
    "training_rates = [4e-5, 5e-5]\n",
    "\n",
    "for t in training_rates:\n",
    "    print(\"\\n\\ntraining rate: \" + str(t))\n",
    "    for i in range(0,2):\n",
    "        print(\"iter: \" + str(i))\n",
    "        model = BertForTokenClassification.from_pretrained(model_name, num_labels=len(label_list))\n",
    "        trainer = NERTrainer(model, train_dataloader, valid_dataloader, label_list, fp16=True)\n",
    "        trainer.fit(learning_rate=t, num_epochs=4)\n",
    "        print(trainer.labelDict)\n",
    "        print(\"\\n\\n\")\n",
    "    "
   ]
  },
  {
   "cell_type": "markdown",
   "metadata": {},
   "source": [
    "#### Save Model Checkpoint"
   ]
  },
  {
   "cell_type": "raw",
   "metadata": {},
   "source": [
    "!pwd\n",
    "torch.save(model.state_dict(), '/home/jupyter/suc_ner_multilingual_saved.pkl')"
   ]
  },
  {
   "cell_type": "raw",
   "metadata": {},
   "source": []
  },
  {
   "cell_type": "raw",
   "metadata": {},
   "source": []
  },
  {
   "cell_type": "raw",
   "metadata": {},
   "source": []
  },
  {
   "cell_type": "raw",
   "metadata": {},
   "source": []
  },
  {
   "cell_type": "markdown",
   "metadata": {},
   "source": [
    "### 4. Investigate"
   ]
  },
  {
   "cell_type": "code",
   "execution_count": null,
   "metadata": {},
   "outputs": [],
   "source": [
    "import numpy as np"
   ]
  },
  {
   "cell_type": "code",
   "execution_count": null,
   "metadata": {},
   "outputs": [],
   "source": [
    "sent_tokenizer = tokenizer\n",
    "sentence_lower = 'En som arbetar mycket hårt är erik som är politisk aktiv inom anderst i sverige .'\n",
    "sentence_lower = sentence_lower.lower()\n",
    "print(sentence_lower)"
   ]
  },
  {
   "cell_type": "code",
   "execution_count": null,
   "metadata": {},
   "outputs": [],
   "source": [
    "example = InputExample(\"\", sentence_lower, label='O')\n",
    "example"
   ]
  },
  {
   "cell_type": "code",
   "execution_count": null,
   "metadata": {},
   "outputs": [],
   "source": [
    "to_tensors = InputExampleToTensors(tokenizer, max_seq_length=128, label_list=label_list)\n",
    "input_ids, input_mask, segment_ids, label_id = to_tensors(example)\n",
    "input_ids, input_mask, segment_ids, label_id"
   ]
  },
  {
   "cell_type": "code",
   "execution_count": null,
   "metadata": {},
   "outputs": [],
   "source": [
    "tokens_tensor = input_ids.view(1,-1)\n",
    "segments_tensors = segment_ids.view(1,-1)"
   ]
  },
  {
   "cell_type": "code",
   "execution_count": null,
   "metadata": {},
   "outputs": [],
   "source": [
    "if device == 'cuda':\n",
    "    model.to('cuda')\n",
    "    tokens_tensor.to('cuda')\n",
    "    segments_tensors.to('cuda')"
   ]
  },
  {
   "cell_type": "code",
   "execution_count": null,
   "metadata": {},
   "outputs": [],
   "source": [
    "model.eval()"
   ]
  },
  {
   "cell_type": "code",
   "execution_count": null,
   "metadata": {},
   "outputs": [],
   "source": [
    "logits = model(tokens_tensor, segments_tensors)\n",
    "logits"
   ]
  },
  {
   "cell_type": "code",
   "execution_count": null,
   "metadata": {},
   "outputs": [],
   "source": [
    "res = []\n",
    "res.extend(logits[0].argmax(-1))\n",
    "res"
   ]
  },
  {
   "cell_type": "code",
   "execution_count": null,
   "metadata": {},
   "outputs": [],
   "source": [
    "np_logits = logits[0].detach().cpu().numpy()\n",
    "np.argmax(np_logits, axis=2)"
   ]
  },
  {
   "cell_type": "code",
   "execution_count": null,
   "metadata": {},
   "outputs": [],
   "source": [
    "lst = np.argmax(np_logits, axis=2)[0].tolist()\n",
    "lst = lst[1:]\n",
    "lst"
   ]
  },
  {
   "cell_type": "code",
   "execution_count": null,
   "metadata": {},
   "outputs": [],
   "source": [
    "splitinput = tokenizer.tokenize(sentence_lower)\n",
    "splitinput"
   ]
  },
  {
   "cell_type": "code",
   "execution_count": null,
   "metadata": {},
   "outputs": [],
   "source": [
    "for num, word in zip(lst, splitinput):\n",
    "    if num == 4:\n",
    "        print(\"PERSON: \" + word)\n",
    "    elif num == 5:\n",
    "        print(\"ORG: \" + word)\n",
    "    elif num == 6:\n",
    "        print(\"LOCATION: \" + word)\n",
    "    elif num == 7:\n",
    "        print(\"WORK: \" + word)\n",
    "    elif num == 8:\n",
    "        print(\"PRODUCT: \" + word)\n",
    "    else:\n",
    "        print(num, word)\n",
    "#    if num == 4 or num == 5:\n",
    "#        print('{} {}'.format(num, word))"
   ]
  },
  {
   "cell_type": "code",
   "execution_count": null,
   "metadata": {},
   "outputs": [],
   "source": [
    "print(\"PER: \" + str(trainer.total_per_correct / trainer.total_per))\n",
    "print(\"LOC: \" + str(trainer.total_loc_correct / trainer.total_loc))\n",
    "print(\"ORG: \" + str(trainer.total_org_correct / trainer.total_org))"
   ]
  },
  {
   "cell_type": "code",
   "execution_count": null,
   "metadata": {},
   "outputs": [],
   "source": [
    "trainer.labelDict"
   ]
  },
  {
   "cell_type": "code",
   "execution_count": null,
   "metadata": {},
   "outputs": [],
   "source": [
    "trainer.val_f1_score_hist"
   ]
  },
  {
   "cell_type": "code",
   "execution_count": null,
   "metadata": {},
   "outputs": [],
   "source": [
    "def cluster(my_list, n):\n",
    "    final = [my_list[i * n:(i + 1) * n] for i in range((len(my_list) + n - 1) // n )]\n",
    "    return list(map(lambda x: sum(x)/len(x), final))"
   ]
  },
  {
   "cell_type": "code",
   "execution_count": null,
   "metadata": {},
   "outputs": [],
   "source": [
    "import matplotlib.pyplot as plt\n",
    "val = cluster(trainer.val_f1_score_hist, 50)\n",
    "plt.plot(val)"
   ]
  },
  {
   "cell_type": "code",
   "execution_count": null,
   "metadata": {},
   "outputs": [],
   "source": []
  }
 ],
 "metadata": {
  "kernelspec": {
   "display_name": "venv-nlp-bert",
   "language": "python",
   "name": "venv-nlp-bert"
  },
  "language_info": {
   "codemirror_mode": {
    "name": "ipython",
    "version": 3
   },
   "file_extension": ".py",
   "mimetype": "text/x-python",
   "name": "python",
   "nbconvert_exporter": "python",
   "pygments_lexer": "ipython3",
   "version": "3.6.9"
  }
 },
 "nbformat": 4,
 "nbformat_minor": 4
}

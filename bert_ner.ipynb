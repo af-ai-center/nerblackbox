{
 "cells": [
  {
   "cell_type": "code",
   "execution_count": null,
   "metadata": {},
   "outputs": [],
   "source": [
    "DOWNSTREAM_TASK = 'ner'"
   ]
  },
  {
   "cell_type": "raw",
   "metadata": {},
   "source": [
    "APPLICATION OF SWEDISH BERT MODEL FOR TASK: BertForTokenClassification"
   ]
  },
  {
   "cell_type": "raw",
   "metadata": {},
   "source": [
    "Note: \n",
    "Before running this notebook, make sure to have followed the steps explained in the \"Setup\" section of README.md"
   ]
  },
  {
   "cell_type": "markdown",
   "metadata": {},
   "source": [
    "# START"
   ]
  },
  {
   "cell_type": "code",
   "execution_count": null,
   "metadata": {},
   "outputs": [],
   "source": [
    "import warnings; warnings.filterwarnings('ignore')\n",
    "\n",
    "%load_ext autoreload\n",
    "%autoreload 2\n",
    "\n",
    "import logging\n",
    "\n",
    "import os\n",
    "import numpy as np\n",
    "import pandas as pd\n",
    "import nltk\n",
    "import matplotlib.pyplot as plt\n",
    "import torch\n",
    "from torch.utils.data import TensorDataset, DataLoader, RandomSampler, SequentialSampler\n",
    "\n",
    "from transformers import BertTokenizer, BertForTokenClassification\n",
    "from pytorch_pretrained_bert import BertAdam\n",
    "\n",
    "from utils.utils import get_available_models, get_available_datasets, prune_examples, ENV_VARIABLE\n",
    "from utils.bert_dataset import BertDataset\n",
    "from utils.input_example import InputExample\n",
    "from utils.input_example_to_tensors import InputExampleToTensors\n",
    "from utils.ner_processor import NerProcessor\n",
    "from utils.ner_trainer import NERTrainer"
   ]
  },
  {
   "cell_type": "code",
   "execution_count": null,
   "metadata": {},
   "outputs": [],
   "source": [
    "logger = logging.getLogger()\n",
    "logger.setLevel(logging.WARNING)"
   ]
  },
  {
   "cell_type": "code",
   "execution_count": null,
   "metadata": {},
   "outputs": [],
   "source": [
    "DIR_PRETRAINED_MODELS = ENV_VARIABLE['DIR_PRETRAINED_MODELS']\n",
    "DIR_DATASETS = os.path.join(ENV_VARIABLE['DIR_DATASETS'], DOWNSTREAM_TASK)\n",
    "DIR_CHECKPOINTS = os.path.join(ENV_VARIABLE['DIR_CHECKPOINTS'], DOWNSTREAM_TASK)"
   ]
  },
  {
   "cell_type": "markdown",
   "metadata": {},
   "source": [
    "### 0. Available Datasets"
   ]
  },
  {
   "cell_type": "code",
   "execution_count": null,
   "metadata": {},
   "outputs": [],
   "source": [
    "available_datasets = get_available_datasets(DOWNSTREAM_TASK)\n",
    "available_datasets"
   ]
  },
  {
   "cell_type": "markdown",
   "metadata": {},
   "source": [
    "### 1. Settings"
   ]
  },
  {
   "cell_type": "code",
   "execution_count": null,
   "metadata": {},
   "outputs": [],
   "source": [
    "pretrained_model_name = 'af-ai-center/bert-base-swedish-uncased'\n",
    "#pretrained_model_name = 'bert-base-multilingual-uncased'"
   ]
  },
  {
   "cell_type": "code",
   "execution_count": null,
   "metadata": {},
   "outputs": [],
   "source": [
    "# dataset = 'SUC'\n",
    "dataset = 'swedish_ner_corpus'\n",
    "\n",
    "assert dataset in available_datasets"
   ]
  },
  {
   "cell_type": "code",
   "execution_count": null,
   "metadata": {},
   "outputs": [],
   "source": [
    "batch_size = 16\n",
    "num_epochs = 2\n",
    "prune_ratio = 0.1"
   ]
  },
  {
   "cell_type": "markdown",
   "metadata": {},
   "source": [
    "### 2. Tokenizer"
   ]
  },
  {
   "cell_type": "code",
   "execution_count": null,
   "metadata": {},
   "outputs": [],
   "source": [
    "tokenizer = BertTokenizer.from_pretrained(pretrained_model_name, do_lower_case=False)  # needs to be False !!"
   ]
  },
  {
   "cell_type": "markdown",
   "metadata": {},
   "source": [
    "### 3. Processor (Data)"
   ]
  },
  {
   "cell_type": "code",
   "execution_count": null,
   "metadata": {},
   "outputs": [],
   "source": [
    "if dataset == 'SUC':\n",
    "    dataset_path = f'{DIR_DATASETS}/SUC/'\n",
    "elif dataset == 'swedish_ner_corpus':\n",
    "    dataset_path = f'{DIR_DATASETS}/swedish_ner_corpus/'\n",
    "    \n",
    "dataset_path"
   ]
  },
  {
   "cell_type": "code",
   "execution_count": null,
   "metadata": {},
   "outputs": [],
   "source": [
    "processor = NerProcessor(dataset_path, tokenizer, do_lower_case=True)  # needs to be True (applies .lower()) !!\n",
    "processor"
   ]
  },
  {
   "cell_type": "code",
   "execution_count": null,
   "metadata": {},
   "outputs": [],
   "source": [
    "label_list = processor.get_label_list()\n",
    "label_list"
   ]
  },
  {
   "cell_type": "markdown",
   "metadata": {},
   "source": [
    "#### Prune Examples (Temp)"
   ]
  },
  {
   "cell_type": "raw",
   "metadata": {},
   "source": [
    "# just to test prune_examples function\n",
    "prune_examples([0, 1, 2, 3, 4, 5], ratio=0.5)"
   ]
  },
  {
   "cell_type": "markdown",
   "metadata": {},
   "source": [
    "#### Train Data"
   ]
  },
  {
   "cell_type": "code",
   "execution_count": null,
   "metadata": {},
   "outputs": [],
   "source": [
    "train_input_examples_all = processor.get_input_examples('train')"
   ]
  },
  {
   "cell_type": "code",
   "execution_count": null,
   "metadata": {},
   "outputs": [],
   "source": [
    "train_input_examples = prune_examples(train_input_examples_all, ratio=prune_ratio)"
   ]
  },
  {
   "cell_type": "code",
   "execution_count": null,
   "metadata": {},
   "outputs": [],
   "source": [
    "print(train_input_examples[8].guid)\n",
    "print(train_input_examples[8].text_a)\n",
    "print(tokenizer.tokenize(train_input_examples[8].text_a))\n",
    "print(train_input_examples[8].labels_a)"
   ]
  },
  {
   "cell_type": "markdown",
   "metadata": {},
   "source": [
    "#### Validation Data"
   ]
  },
  {
   "cell_type": "code",
   "execution_count": null,
   "metadata": {},
   "outputs": [],
   "source": [
    "valid_input_examples_all = processor.get_input_examples('test')"
   ]
  },
  {
   "cell_type": "code",
   "execution_count": null,
   "metadata": {},
   "outputs": [],
   "source": [
    "valid_input_examples = prune_examples(valid_input_examples_all, ratio=prune_ratio)"
   ]
  },
  {
   "cell_type": "code",
   "execution_count": null,
   "metadata": {},
   "outputs": [],
   "source": [
    "print(len(valid_input_examples))\n",
    "print(valid_input_examples[1].text_a)\n",
    "print(tokenizer.tokenize(valid_input_examples[1].text_a))\n",
    "print(valid_input_examples[1].labels_a)"
   ]
  },
  {
   "cell_type": "markdown",
   "metadata": {},
   "source": [
    "#### Dataloader"
   ]
  },
  {
   "cell_type": "code",
   "execution_count": null,
   "metadata": {},
   "outputs": [],
   "source": [
    "samples_transformer = InputExampleToTensors(tokenizer, \n",
    "                                            max_seq_length=64, \n",
    "                                            label_tuple=tuple(label_list))"
   ]
  },
  {
   "cell_type": "code",
   "execution_count": null,
   "metadata": {},
   "outputs": [],
   "source": [
    "train_data = BertDataset(train_input_examples, \n",
    "                         transform=samples_transformer)\n",
    "train_dataloader = DataLoader(train_data, \n",
    "                              sampler=RandomSampler(train_data), \n",
    "                              batch_size=batch_size)"
   ]
  },
  {
   "cell_type": "code",
   "execution_count": null,
   "metadata": {},
   "outputs": [],
   "source": [
    "valid_data = BertDataset(valid_input_examples, \n",
    "                         transform=samples_transformer)\n",
    "valid_dataloader = DataLoader(valid_data, \n",
    "                              sampler=SequentialSampler(valid_data), \n",
    "                              batch_size=batch_size)"
   ]
  },
  {
   "cell_type": "markdown",
   "metadata": {},
   "source": [
    "### 4. Model"
   ]
  },
  {
   "cell_type": "code",
   "execution_count": null,
   "metadata": {},
   "outputs": [],
   "source": [
    "model = BertForTokenClassification.from_pretrained(pretrained_model_name, \n",
    "                                                   num_labels=len(label_list))\n",
    "model"
   ]
  },
  {
   "cell_type": "markdown",
   "metadata": {},
   "source": [
    "### 5. Train"
   ]
  },
  {
   "cell_type": "code",
   "execution_count": null,
   "metadata": {},
   "outputs": [],
   "source": [
    "device = torch.device(\"cuda\" if torch.cuda.is_available() else \"cpu\")\n",
    "device"
   ]
  },
  {
   "cell_type": "code",
   "execution_count": null,
   "metadata": {},
   "outputs": [],
   "source": [
    "trainer = NERTrainer(model, \n",
    "                     train_dataloader, \n",
    "                     train_dataloader, \n",
    "                     label_list, \n",
    "                     fp16=True if torch.cuda.is_available() else False\n",
    "                    )\n",
    "\n",
    "trainer"
   ]
  },
  {
   "cell_type": "code",
   "execution_count": null,
   "metadata": {
    "scrolled": true
   },
   "outputs": [],
   "source": [
    "trainer.fit(learning_rate=2e-5, \n",
    "            num_epochs=num_epochs, \n",
    "            verbose=False)"
   ]
  },
  {
   "cell_type": "markdown",
   "metadata": {},
   "source": [
    "### 6. Results"
   ]
  },
  {
   "cell_type": "raw",
   "metadata": {},
   "source": [
    "def display(_metrics):\n",
    "    \n",
    "    print('--- train ---')\n",
    "    print('> batch')\n",
    "    print(_metrics['batch']['train'])\n",
    "    print('--- valid ---')\n",
    "    print('> batch')\n",
    "    print(_metrics['batch']['valid'])\n",
    "    print('> epoch')\n",
    "    print(_metrics['epoch']['valid'])\n",
    "    \n",
    "display(trainer.metrics)"
   ]
  },
  {
   "cell_type": "code",
   "execution_count": null,
   "metadata": {},
   "outputs": [],
   "source": [
    "def plot_learning_rate(metrics):\n",
    "    lr = metrics['batch']['train']['lr']\n",
    "    fig, ax = plt.subplots()\n",
    "    ax.plot(lr, linestyle='', marker='.')\n",
    "    ax.set_xlabel('batch')\n",
    "    ax.set_ylabel('learning rate')\n",
    "    \n",
    "plot_learning_rate(trainer.metrics)"
   ]
  },
  {
   "cell_type": "code",
   "execution_count": null,
   "metadata": {},
   "outputs": [],
   "source": [
    "def plot_metric(metrics, num_epochs, metric, f1_spec=None, ax=None):\n",
    "    ### PREP ###\n",
    "    if f1_spec is None:\n",
    "        batch_train = metrics['batch']['train'][metric]\n",
    "        epoch_valid = metrics['epoch']['valid'][metric]\n",
    "    else:\n",
    "        batch_train = metrics['batch']['train'][metric][f1_spec[0]][f1_spec[1]]\n",
    "        epoch_valid = metrics['epoch']['valid'][metric][f1_spec[0]][f1_spec[1]]\n",
    "    \n",
    "    clr = {'loss': 'r', \n",
    "           'acc': 'green', \n",
    "           'f1_macro': 'orange',\n",
    "           'f1_micro': 'blue',\n",
    "          }\n",
    "    if f1_spec is None:\n",
    "        metric_spec = metric\n",
    "    else:\n",
    "        f1_spec_1st = f1_spec[0]\n",
    "        metric_spec = f'{metric}_{f1_spec_1st}'\n",
    "\n",
    "    ### PLOT ###\n",
    "    if ax == None:\n",
    "        fig, ax = plt.subplots()\n",
    "    \n",
    "    ax.plot(batch_train, \n",
    "            linestyle='-', marker='.', color=clr[metric_spec], alpha=0.3, label='train')\n",
    "    \n",
    "    x = [len(batch_train)*float(i)/num_epochs for i in range(1, num_epochs+1)]\n",
    "    ax.plot(x, epoch_valid, \n",
    "            linestyle='', marker='o', color=clr[metric_spec], label='valid')\n",
    "    \n",
    "    ax.set_xlabel('batch')\n",
    "    ax.set_ylabel(metric)\n",
    "    if metric == 'loss':\n",
    "        ax.set_ylim([0, None])\n",
    "    else:\n",
    "        ax.set_ylim([0, 1])\n",
    "    if metric in ['loss', 'acc']:\n",
    "        ax.set_title(metric)\n",
    "    elif metric == 'f1':\n",
    "        f1_spec_1st = f1_spec[0]\n",
    "        f1_spec_2nd = f1_spec[1]\n",
    "        ax.set_title(f'f1 score: {f1_spec_1st}, {f1_spec_2nd}')\n",
    "    ax.legend()"
   ]
  },
  {
   "cell_type": "code",
   "execution_count": null,
   "metadata": {},
   "outputs": [],
   "source": [
    "fig, ax = plt.subplots(1, 2, figsize=(12, 4))\n",
    "plot_metric(trainer.metrics, num_epochs, 'loss', ax=ax[0])\n",
    "plot_metric(trainer.metrics, num_epochs, 'acc', ax=ax[1])"
   ]
  },
  {
   "cell_type": "code",
   "execution_count": null,
   "metadata": {},
   "outputs": [],
   "source": [
    "fig, ax = plt.subplots(1, 2, figsize=(12, 4))\n",
    "plot_metric(trainer.metrics, num_epochs, 'f1', ('macro', 'all'), ax=ax[0])\n",
    "plot_metric(trainer.metrics, num_epochs, 'f1', ('macro', 'fil'), ax=ax[1])"
   ]
  },
  {
   "cell_type": "code",
   "execution_count": null,
   "metadata": {},
   "outputs": [],
   "source": [
    "fig, ax = plt.subplots(1, 2, figsize=(12, 4))\n",
    "plot_metric(trainer.metrics, num_epochs, 'f1', ('micro', 'all'), ax=ax[0])\n",
    "plot_metric(trainer.metrics, num_epochs, 'f1', ('micro', 'fil'), ax=ax[1])"
   ]
  },
  {
   "cell_type": "markdown",
   "metadata": {},
   "source": [
    "#### Different training rates"
   ]
  },
  {
   "cell_type": "raw",
   "metadata": {},
   "source": [
    "training_rates = [4e-5, 5e-5]\n",
    "\n",
    "for t in training_rates:\n",
    "    print(\"\\n\\ntraining rate: \" + str(t))\n",
    "    for i in range(0,2):\n",
    "        print(\"iter: \" + str(i))\n",
    "        model = BertForTokenClassification.from_pretrained(model_name, num_labels=len(label_list))\n",
    "        trainer = NERTrainer(model, train_dataloader, valid_dataloader, label_list, fp16=True)\n",
    "        trainer.fit(learning_rate=t, num_epochs=4)\n",
    "        print(trainer.labelDict)\n",
    "        print(\"\\n\\n\")\n",
    "    "
   ]
  },
  {
   "cell_type": "markdown",
   "metadata": {},
   "source": [
    "#### Save Model Checkpoint"
   ]
  },
  {
   "cell_type": "code",
   "execution_count": null,
   "metadata": {},
   "outputs": [],
   "source": [
    "torch.save(model.state_dict(), f'./{DIR_CHECKPOINTS}/saved__{dataset}__{model_name}.pkl')"
   ]
  }
 ],
 "metadata": {
  "kernelspec": {
   "display_name": "venv-nlp-swebert-applications",
   "language": "python",
   "name": "venv-nlp-swebert-applications"
  },
  "language_info": {
   "codemirror_mode": {
    "name": "ipython",
    "version": 3
   },
   "file_extension": ".py",
   "mimetype": "text/x-python",
   "name": "python",
   "nbconvert_exporter": "python",
   "pygments_lexer": "ipython3",
   "version": "3.6.9"
  }
 },
 "nbformat": 4,
 "nbformat_minor": 4
}

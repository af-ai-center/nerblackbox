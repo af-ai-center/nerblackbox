{
 "cells": [
  {
   "cell_type": "code",
   "execution_count": null,
   "metadata": {},
   "outputs": [],
   "source": [
    "import warnings; warnings.filterwarnings('ignore')\n",
    "\n",
    "%load_ext autoreload\n",
    "%autoreload 2\n",
    "import logging\n",
    "import torch\n",
    "from transformers import *\n",
    "from pytorch_pretrained_bert import BertAdam\n",
    "from utils import BertDataset, NERProcessor, InputExampleToTensors, NERTrainer,InputExample\n",
    "from torch.utils.data import TensorDataset, DataLoader, RandomSampler, SequentialSampler\n",
    "import pandas as pd\n",
    "import nltk\n",
    "import numpy as np"
   ]
  },
  {
   "cell_type": "code",
   "execution_count": null,
   "metadata": {},
   "outputs": [],
   "source": [
    "logger = logging.getLogger()\n",
    "logger.setLevel(logging.WARNING)\n",
    "\n",
    "model_name = './swe-uncased_L-12_H-768_A-12'\n",
    "tokenizer = BertTokenizer.from_pretrained(model_name, do_lower_case=False)\n",
    "processor = NERProcessor('SUC/', tokenizer, do_lower_case=True)\n",
    "\n",
    "label_list = processor.get_label_list()\n",
    "model = BertForTokenClassification.from_pretrained(model_name, num_labels=len(label_list))"
   ]
  },
  {
   "cell_type": "code",
   "execution_count": null,
   "metadata": {},
   "outputs": [],
   "source": [
    "model.load_state_dict(torch.load(\"./suc_bert_ner.pkl\"))"
   ]
  },
  {
   "cell_type": "code",
   "execution_count": null,
   "metadata": {},
   "outputs": [],
   "source": []
  },
  {
   "cell_type": "code",
   "execution_count": null,
   "metadata": {},
   "outputs": [],
   "source": [
    "import numpy as np\n",
    "\n",
    "x = open(\"biema_dataset/annons\",\"r\")\n",
    "\n",
    "sent_tokenizer = tokenizer\n",
    "#print(sent_tokenizer.tokenize(x.read()))\n",
    "predictions = []\n",
    "\n",
    "sentence_lower = \"Dina egenskaperDu kan arbeta självständigt och är trygg i din yrkesroll\"\n",
    "print(sentence_lower)\n",
    "example = InputExample(\"\", sentence_lower, label='O')\n",
    "to_tensors = InputExampleToTensors(tokenizer, max_seq_length=128, label_list=label_list)\n",
    "input_ids, input_mask, segment_ids, label_id = to_tensors(example)\n",
    "#input_ids, input_mask, segment_ids, label_id = train_data[2]\n",
    "model.to('cuda')\n",
    "tokens_tensor = input_ids.view(1,-1).to('cuda')\n",
    "segments_tensors = segment_ids.view(1,-1).to('cuda')\n",
    "model.eval()\n",
    "#logits = model(tokens_tensor, segments_tensors)\n",
    "logits = model(tokens_tensor, token_type_ids=segments_tensors)\n",
    "logits = logits[0].detach().cpu().numpy()\n",
    "\n",
    "predictions.extend([list(p) for p in np.argmax(logits, axis=2)])\n",
    "pred_tags = [label_list[p_i] for p in predictions for p_i in p]\n",
    "\n",
    "print(pred_tags)\n",
    "\n",
    "np_logits = logits\n",
    "np.argmax(np_logits, axis=2)\n",
    "lst = np.argmax(np_logits, axis=2)[0].tolist()\n",
    "lst = lst[1:]\n",
    "\n",
    "#print(input_ids)\n",
    "splitinput = tokenizer.tokenize(sentence_lower)\n",
    "print(lst)\n",
    "print(splitinput)\n",
    "##print(logits)\n",
    "for num, word in zip(lst, splitinput):\n",
    "    if num == 4 or num == 5:\n",
    "        print('{} {}'.format(num, word))"
   ]
  },
  {
   "cell_type": "code",
   "execution_count": null,
   "metadata": {},
   "outputs": [],
   "source": [
    "sentence_lower = 'Smygrustning av raketvapen Av MATS LUNDEGÅRD DN:s korrespondent .'\n",
    "sentence_lower = sentence_lower.lower()\n",
    "print(sentence_lower)\n",
    "example = InputExample(\"\", sentence_lower, label='O')\n",
    "to_tensors = InputExampleToTensors(tokenizer, max_seq_length=128, label_list=label_list)\n",
    "input_ids, input_mask, segment_ids, label_id = to_tensors(example)\n",
    "#input_ids, input_mask, segment_ids, label_id = train_data[2]\n",
    "model.to('cuda')\n",
    "tokens_tensor = input_ids.view(1,-1).to('cuda')\n",
    "segments_tensors = segment_ids.view(1,-1).to('cuda')\n",
    "model.eval()\n",
    "logits = model(tokens_tensor, segments_tensors)\n",
    "res = []\n",
    "res.extend(logits[0].argmax(-1))\n",
    "np_logits = logits[0].detach().cpu().numpy()\n",
    "np.argmax(np_logits, axis=2)\n",
    "lst = np.argmax(np_logits, axis=2)[0].tolist()\n",
    "lst = lst[1:]\n",
    "\n",
    "#print(segment_ids)\n",
    "splitinput = tokenizer.tokenize(sentence_lower)\n",
    "#print(lst)\n",
    "#print(list(zip(lst,splitinput)))\n",
    "#print(logits)\n",
    "for num, word in zip(lst, splitinput):\n",
    "    print(num, word)"
   ]
  },
  {
   "cell_type": "code",
   "execution_count": null,
   "metadata": {},
   "outputs": [],
   "source": []
  }
 ],
 "metadata": {
  "kernelspec": {
   "display_name": "Python 3",
   "language": "python",
   "name": "python3"
  },
  "language_info": {
   "codemirror_mode": {
    "name": "ipython",
    "version": 3
   },
   "file_extension": ".py",
   "mimetype": "text/x-python",
   "name": "python",
   "nbconvert_exporter": "python",
   "pygments_lexer": "ipython3",
   "version": "3.6.9"
  }
 },
 "nbformat": 4,
 "nbformat_minor": 4
}

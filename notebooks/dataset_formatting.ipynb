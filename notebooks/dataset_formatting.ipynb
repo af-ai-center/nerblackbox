{
 "cells": [
  {
   "cell_type": "code",
   "execution_count": null,
   "metadata": {
    "scrolled": true
   },
   "outputs": [],
   "source": [
    "import warnings\n",
    "warnings.filterwarnings('ignore')\n",
    "\n",
    "import pandas as pd\n",
    "\n",
    "from os.path import abspath, dirname, join\n",
    "import sys\n",
    "BASE_DIR = abspath('..')\n",
    "print(BASE_DIR)\n",
    "sys.path.append(BASE_DIR)\n",
    "\n",
    "from datasets.formatter.swedish_ner_corpus_formatter import SwedishNerCorpusFormatter\n",
    "from datasets.formatter.conll2003_formatter import CoNLL2003Formatter"
   ]
  },
  {
   "cell_type": "markdown",
   "metadata": {},
   "source": [
    "# CoNLL 2013"
   ]
  },
  {
   "cell_type": "markdown",
   "metadata": {},
   "source": [
    "### original"
   ]
  },
  {
   "cell_type": "code",
   "execution_count": null,
   "metadata": {},
   "outputs": [],
   "source": [
    "path = '../datasets/ner/conll2003/eng.train'\n",
    "with open(path, 'r') as f:\n",
    "    lines = f.readlines()\n",
    "print(len(lines))\n",
    "print(lines[:30])"
   ]
  },
  {
   "cell_type": "markdown",
   "metadata": {},
   "source": [
    "### formatting"
   ]
  },
  {
   "cell_type": "code",
   "execution_count": null,
   "metadata": {},
   "outputs": [],
   "source": [
    "formatter = CoNLL2003Formatter()\n",
    "rows = formatter._read_original_file('train')\n",
    "rows"
   ]
  },
  {
   "cell_type": "markdown",
   "metadata": {},
   "source": [
    "### formatted"
   ]
  },
  {
   "cell_type": "code",
   "execution_count": null,
   "metadata": {},
   "outputs": [],
   "source": [
    "path = '../datasets/ner/conll2003/train.csv'\n",
    "df = pd.read_csv(path, sep='\\t', header=None)\n",
    "df.head()"
   ]
  },
  {
   "cell_type": "markdown",
   "metadata": {},
   "source": [
    "# Swedish Ner Corpus"
   ]
  },
  {
   "cell_type": "markdown",
   "metadata": {},
   "source": [
    "### original"
   ]
  },
  {
   "cell_type": "code",
   "execution_count": null,
   "metadata": {},
   "outputs": [],
   "source": [
    "path = '../datasets/ner/swedish_ner_corpus/train_corpus.txt'\n",
    "with open(path, 'r') as f:\n",
    "    lines = f.readlines()\n",
    "print(len(lines))\n",
    "print(lines[:30])"
   ]
  },
  {
   "cell_type": "markdown",
   "metadata": {},
   "source": [
    "### formatting"
   ]
  },
  {
   "cell_type": "code",
   "execution_count": null,
   "metadata": {},
   "outputs": [],
   "source": [
    "formatter = SwedishNerCorpusFormatter()\n",
    "rows = formatter._read_original_file('train')\n",
    "rows"
   ]
  },
  {
   "cell_type": "markdown",
   "metadata": {},
   "source": [
    "### formatted"
   ]
  },
  {
   "cell_type": "code",
   "execution_count": null,
   "metadata": {},
   "outputs": [],
   "source": [
    "path = '../datasets/ner/swedish_ner_corpus/train.csv'\n",
    "df = pd.read_csv(path, sep='\\t', header=None)\n",
    "df.head()"
   ]
  },
  {
   "cell_type": "markdown",
   "metadata": {},
   "source": [
    "# SUC"
   ]
  },
  {
   "cell_type": "markdown",
   "metadata": {},
   "source": [
    "### original"
   ]
  },
  {
   "cell_type": "code",
   "execution_count": null,
   "metadata": {},
   "outputs": [],
   "source": [
    "path = '../datasets/ner/SUC/train_original.csv'\n",
    "df_original = pd.read_csv(path, sep='\\t', header=None)\n",
    "df_original.head()"
   ]
  },
  {
   "cell_type": "markdown",
   "metadata": {},
   "source": [
    "### formatted"
   ]
  },
  {
   "cell_type": "code",
   "execution_count": null,
   "metadata": {},
   "outputs": [],
   "source": [
    "path = '../datasets/ner/SUC/train.csv'\n",
    "df = pd.read_csv(path, sep='\\t', header=None)\n",
    "df.head()"
   ]
  }
 ],
 "metadata": {
  "kernelspec": {
   "display_name": "venv-nlp-swebert-applications",
   "language": "python",
   "name": "venv-nlp-swebert-applications"
  },
  "language_info": {
   "codemirror_mode": {
    "name": "ipython",
    "version": 3
   },
   "file_extension": ".py",
   "mimetype": "text/x-python",
   "name": "python",
   "nbconvert_exporter": "python",
   "pygments_lexer": "ipython3",
   "version": "3.6.9"
  }
 },
 "nbformat": 4,
 "nbformat_minor": 2
}

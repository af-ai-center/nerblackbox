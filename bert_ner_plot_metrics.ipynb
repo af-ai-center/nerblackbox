{
 "cells": [
  {
   "cell_type": "code",
   "execution_count": null,
   "metadata": {},
   "outputs": [],
   "source": [
    "DOWNSTREAM_TASK = 'ner'"
   ]
  },
  {
   "cell_type": "code",
   "execution_count": null,
   "metadata": {},
   "outputs": [],
   "source": [
    "import os\n",
    "import pickle\n",
    "import matplotlib.pyplot as plt\n",
    "\n",
    "from utils.utils import ENV_VARIABLE"
   ]
  },
  {
   "cell_type": "code",
   "execution_count": null,
   "metadata": {},
   "outputs": [],
   "source": [
    "DIR_PRETRAINED_MODELS = ENV_VARIABLE['DIR_PRETRAINED_MODELS']\n",
    "DIR_DATASETS = os.path.join(ENV_VARIABLE['DIR_DATASETS'], DOWNSTREAM_TASK)\n",
    "DIR_CHECKPOINTS = os.path.join(ENV_VARIABLE['DIR_CHECKPOINTS'], DOWNSTREAM_TASK)"
   ]
  },
  {
   "cell_type": "markdown",
   "metadata": {},
   "source": [
    "# SETTINGS"
   ]
  },
  {
   "cell_type": "code",
   "execution_count": null,
   "metadata": {},
   "outputs": [],
   "source": [
    "# pretrained_model_name = 'af-ai-center/bert-base-swedish-uncased'\n",
    "pretrained_model_name = 'bert-base-multilingual-uncased'"
   ]
  },
  {
   "cell_type": "code",
   "execution_count": null,
   "metadata": {},
   "outputs": [],
   "source": [
    "model_name = pretrained_model_name.split('/')[-1]"
   ]
  },
  {
   "cell_type": "code",
   "execution_count": null,
   "metadata": {},
   "outputs": [],
   "source": [
    "# dataset = 'SUC'\n",
    "dataset = 'swedish_ner_corpus'"
   ]
  },
  {
   "cell_type": "code",
   "execution_count": null,
   "metadata": {},
   "outputs": [],
   "source": [
    "num_epochs = 2\n",
    "prune_ratio = 0.1"
   ]
  },
  {
   "cell_type": "markdown",
   "metadata": {},
   "source": [
    "# LOAD METRICS"
   ]
  },
  {
   "cell_type": "code",
   "execution_count": null,
   "metadata": {},
   "outputs": [],
   "source": [
    "pkl_path = f'./{DIR_CHECKPOINTS}/metrics__{dataset}__{model_name}__{num_epochs}__{prune_ratio}.pkl'\n",
    "with open(pkl_path, 'rb') as f:\n",
    "    metrics = pickle.load(f)"
   ]
  },
  {
   "cell_type": "markdown",
   "metadata": {},
   "source": [
    "# START"
   ]
  },
  {
   "cell_type": "code",
   "execution_count": null,
   "metadata": {},
   "outputs": [],
   "source": [
    "def display(_metrics):\n",
    "    \n",
    "    print('--- train ---')\n",
    "    print('> batch')\n",
    "    print(_metrics['batch']['train'])\n",
    "    print('--- valid ---')\n",
    "    print('> batch')\n",
    "    print(_metrics['batch']['valid'])\n",
    "    print('> epoch')\n",
    "    print(_metrics['epoch']['valid'])\n",
    "    \n",
    "# display(metrics)"
   ]
  },
  {
   "cell_type": "code",
   "execution_count": null,
   "metadata": {},
   "outputs": [],
   "source": [
    "def plot_learning_rate(metrics):\n",
    "    lr = metrics['batch']['train']['lr']\n",
    "    fig, ax = plt.subplots()\n",
    "    ax.plot(lr, linestyle='', marker='.')\n",
    "    ax.set_xlabel('batch')\n",
    "    ax.set_ylabel('learning rate')\n",
    "    \n",
    "plot_learning_rate(metrics)"
   ]
  },
  {
   "cell_type": "code",
   "execution_count": null,
   "metadata": {},
   "outputs": [],
   "source": [
    "def plot_metric(metrics, num_epochs, metric, f1_spec=None, ax=None):\n",
    "    ### PREP ###\n",
    "    if f1_spec is None:\n",
    "        batch_train = metrics['batch']['train'][metric]\n",
    "        epoch_valid = metrics['epoch']['valid'][metric]\n",
    "    else:\n",
    "        batch_train = metrics['batch']['train'][metric][f1_spec[0]][f1_spec[1]]\n",
    "        epoch_valid = metrics['epoch']['valid'][metric][f1_spec[0]][f1_spec[1]]\n",
    "    \n",
    "    clr = {'loss': 'r', \n",
    "           'acc': 'green', \n",
    "           'f1_macro': 'orange',\n",
    "           'f1_micro': 'blue',\n",
    "          }\n",
    "    if f1_spec is None:\n",
    "        metric_spec = metric\n",
    "    else:\n",
    "        f1_spec_1st = f1_spec[0]\n",
    "        metric_spec = f'{metric}_{f1_spec_1st}'\n",
    "\n",
    "    ### PLOT ###\n",
    "    if ax == None:\n",
    "        fig, ax = plt.subplots()\n",
    "    \n",
    "    ax.plot(batch_train, \n",
    "            linestyle='-', marker='.', color=clr[metric_spec], alpha=0.3, label='train')\n",
    "    \n",
    "    x = [len(batch_train)*float(i)/num_epochs for i in range(1, num_epochs+1)]\n",
    "    ax.plot(x, epoch_valid, \n",
    "            linestyle='', marker='o', color=clr[metric_spec], label='valid')\n",
    "    \n",
    "    ax.set_xlabel('batch')\n",
    "    ax.set_ylabel(metric)\n",
    "    if metric == 'loss':\n",
    "        ax.set_ylim([0, None])\n",
    "    else:\n",
    "        ax.set_ylim([0, 1])\n",
    "    if metric in ['loss', 'acc']:\n",
    "        ax.set_title(metric)\n",
    "    elif metric == 'f1':\n",
    "        f1_spec_1st = f1_spec[0]\n",
    "        f1_spec_2nd = f1_spec[1]\n",
    "        ax.set_title(f'f1 score: {f1_spec_1st}, {f1_spec_2nd}')\n",
    "    ax.legend()"
   ]
  },
  {
   "cell_type": "code",
   "execution_count": null,
   "metadata": {},
   "outputs": [],
   "source": [
    "fig, ax = plt.subplots(1, 2, figsize=(12, 4))\n",
    "plot_metric(metrics, num_epochs, 'loss', ax=ax[0])\n",
    "plot_metric(metrics, num_epochs, 'acc', ax=ax[1])"
   ]
  },
  {
   "cell_type": "code",
   "execution_count": null,
   "metadata": {},
   "outputs": [],
   "source": [
    "fig, ax = plt.subplots(1, 2, figsize=(12, 4))\n",
    "plot_metric(metrics, num_epochs, 'f1', ('macro', 'all'), ax=ax[0])\n",
    "plot_metric(metrics, num_epochs, 'f1', ('macro', 'fil'), ax=ax[1])"
   ]
  },
  {
   "cell_type": "code",
   "execution_count": null,
   "metadata": {},
   "outputs": [],
   "source": [
    "fig, ax = plt.subplots(1, 2, figsize=(12, 4))\n",
    "plot_metric(metrics, num_epochs, 'f1', ('micro', 'all'), ax=ax[0])\n",
    "plot_metric(metrics, num_epochs, 'f1', ('micro', 'fil'), ax=ax[1])"
   ]
  }
 ],
 "metadata": {
  "kernelspec": {
   "display_name": "venv-nlp-swebert-applications",
   "language": "python",
   "name": "venv-nlp-swebert-applications"
  },
  "language_info": {
   "codemirror_mode": {
    "name": "ipython",
    "version": 3
   },
   "file_extension": ".py",
   "mimetype": "text/x-python",
   "name": "python",
   "nbconvert_exporter": "python",
   "pygments_lexer": "ipython3",
   "version": "3.6.9"
  }
 },
 "nbformat": 4,
 "nbformat_minor": 2
}
